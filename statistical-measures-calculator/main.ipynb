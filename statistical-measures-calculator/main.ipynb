{
  "nbformat": 4,
  "nbformat_minor": 0,
  "metadata": {
    "colab": {
      "name": "Mean-Variance-Standard Deviation Calculator",
      "provenance": [],
      "collapsed_sections": []
    },
    "kernelspec": {
      "name": "python3",
      "display_name": "Python 3"
    },
    "language_info": {
      "name": "python"
    }
  },
  "cells": [
    {
      "cell_type": "markdown",
      "source": [
        "Task:\n",
        "\n",
        "Create a function named calculate() in mean_var_std.py that uses Numpy to output the mean, variance, standard deviation, max, min, and sum of the rows, columns, and elements in a 3 x 3 matrix.\n",
        "\n",
        "The input of the function should be a list containing 9 digits. The function should convert the list into a 3 x 3 Numpy array, and then return a dictionary containing the mean, variance, standard deviation, max, min, and sum along both axes and for the flattened matrix.\n",
        "Create a function named calculate() in mean_var_std.py that uses Numpy to output the mean, variance, standard deviation, max, min, and sum of the rows, columns, and elements in a 3 x 3 matrix.\n",
        "\n",
        "The input of the function should be a list containing 9 digits. The function should convert the list into a 3 x 3 Numpy array, and then return a dictionary containing the mean, variance, standard deviation, max, min, and sum along both axes and for the flattened matrix."
      ],
      "metadata": {
        "id": "FBWHjyDAScr8"
      }
    },
    {
      "cell_type": "code",
      "source": [
        "import numpy as np"
      ],
      "metadata": {
        "id": "VHkNRDiONjnl"
      },
      "execution_count": null,
      "outputs": []
    },
    {
      "cell_type": "markdown",
      "source": [
        "Let's create our test and result variables"
      ],
      "metadata": {
        "id": "er1R82kZSSgi"
      }
    },
    {
      "cell_type": "code",
      "source": [
        "test_case = [0,1,2,3,4,5,6,7,8]\n",
        "result = {\n",
        "  'mean': [],\n",
        "  'variance': [],\n",
        "  'standard deviation': [],\n",
        "  'max': [],\n",
        "  'min': [],\n",
        "  'sum': []\n",
        "}"
      ],
      "metadata": {
        "id": "VuGj_9NKN-pq"
      },
      "execution_count": null,
      "outputs": []
    },
    {
      "cell_type": "code",
      "source": [
        "matrix = np.array(test_case).reshape(3, 3)"
      ],
      "metadata": {
        "id": "Ce8xnIAJOTbA"
      },
      "execution_count": null,
      "outputs": []
    },
    {
      "cell_type": "code",
      "source": [
        "axis_variants = [0, 1, None]"
      ],
      "metadata": {
        "id": "sGiK6l91O9em"
      },
      "execution_count": null,
      "outputs": []
    },
    {
      "cell_type": "code",
      "source": [
        "for ax in axis_variants:\n",
        "  result['mean'].append(matrix.mean(axis=ax))\n",
        "  result['variance'].append(matrix.var(axis=ax))\n",
        "  result['standard deviation'].append(matrix.std(axis=ax))\n",
        "  result['max'].append(matrix.max(axis=ax))\n",
        "  result['min'].append(matrix.min(axis=ax))\n",
        "  result['sum'].append(matrix.sum(axis=ax))"
      ],
      "metadata": {
        "id": "HR-krF9vPZGL"
      },
      "execution_count": null,
      "outputs": []
    },
    {
      "cell_type": "markdown",
      "source": [
        "The result is:"
      ],
      "metadata": {
        "id": "9gTPUwRbSp-U"
      }
    },
    {
      "cell_type": "code",
      "source": [
        "print(result)"
      ],
      "metadata": {
        "colab": {
          "base_uri": "https://localhost:8080/"
        },
        "id": "wq3UVUjgRKf3",
        "outputId": "75de4b00-2813-409c-83a1-af52cdb4f67f"
      },
      "execution_count": null,
      "outputs": [
        {
          "output_type": "stream",
          "name": "stdout",
          "text": [
            "{'mean': [array([3., 4., 5.]), array([3., 4., 5.]), array([1., 4., 7.]), 4.0], 'variance': [array([6., 6., 6.]), array([6., 6., 6.]), array([0.66666667, 0.66666667, 0.66666667]), 6.666666666666667], 'standard deviation': [array([2.44948974, 2.44948974, 2.44948974]), array([0.81649658, 0.81649658, 0.81649658]), 2.581988897471611], 'max': [array([6, 7, 8]), array([2, 5, 8]), 8], 'min': [array([0, 1, 2]), array([0, 3, 6]), 0], 'sum': [array([ 9, 12, 15]), array([ 3, 12, 21]), 36]}\n"
          ]
        }
      ]
    },
    {
      "cell_type": "markdown",
      "source": [
        "Let's combine this all into a function:"
      ],
      "metadata": {
        "id": "19BMjaFbSr9Z"
      }
    },
    {
      "cell_type": "code",
      "source": [
        "def calculate(arr):\n",
        "\n",
        "  matrix = np.array(test_case).reshape(3, 3)\n",
        "\n",
        "  axis_variants = [0, 1, None]\n",
        "  result = {\n",
        "    'mean': [],\n",
        "    'variance': [],\n",
        "    'standard deviation': [],\n",
        "    'max': [],\n",
        "    'min': [],\n",
        "    'sum': []\n",
        "  }\n",
        "\n",
        "  for ax in axis_variants:\n",
        "    result['mean'].append(matrix.mean(axis=ax))\n",
        "    result['variance'].append(matrix.var(axis=ax))\n",
        "    result['standard deviation'].append(matrix.std(axis=ax))\n",
        "    result['max'].append(matrix.max(axis=ax))\n",
        "    result['min'].append(matrix.min(axis=ax))\n",
        "    result['sum'].append(matrix.sum(axis=ax))\n",
        "\n",
        "  return result"
      ],
      "metadata": {
        "id": "WveTdfHaSvB0"
      },
      "execution_count": null,
      "outputs": []
    },
    {
      "cell_type": "code",
      "source": [
        "print(calculate(test_case))"
      ],
      "metadata": {
        "colab": {
          "base_uri": "https://localhost:8080/"
        },
        "id": "LberzAi_TJhX",
        "outputId": "799315ed-9408-4956-aa56-0a92b4f028cc"
      },
      "execution_count": null,
      "outputs": [
        {
          "output_type": "stream",
          "name": "stdout",
          "text": [
            "{'mean': [array([3., 4., 5.]), array([1., 4., 7.]), 4.0], 'variance': [array([6., 6., 6.]), array([0.66666667, 0.66666667, 0.66666667]), 6.666666666666667], 'standard deviation': [array([2.44948974, 2.44948974, 2.44948974]), array([0.81649658, 0.81649658, 0.81649658]), 2.581988897471611], 'max': [array([6, 7, 8]), array([2, 5, 8]), 8], 'min': [array([0, 1, 2]), array([0, 3, 6]), 0], 'sum': [array([ 9, 12, 15]), array([ 3, 12, 21]), 36]}\n"
          ]
        }
      ]
    }
  ]
}